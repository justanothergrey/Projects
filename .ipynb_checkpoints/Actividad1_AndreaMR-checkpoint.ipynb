{
 "cells": [
  {
   "cell_type": "markdown",
   "id": "139aa281-8132-43a7-a09b-db3847ba7070",
   "metadata": {},
   "source": [
    "# Actividad 1 - Curso tecnolochicas\n",
    "### Autora: Andrea Morales Rodríguez"
   ]
  },
  {
   "cell_type": "markdown",
   "id": "72d88c70-aa54-4ed7-8b08-501bea211649",
   "metadata": {},
   "source": [
    "1. Suma de dos números."
   ]
  },
  {
   "cell_type": "code",
   "execution_count": null,
   "id": "7befd91c-8f4f-4d1f-bb46-2a650c1ef1ca",
   "metadata": {},
   "outputs": [],
   "source": [
    "while True:\n",
    "    input_str = input('Ingresa dos valores separados por un espacio.')\n",
    "    input_list = input_str.split()\n",
    "    if len(input_list) != 2:\n",
    "        print('Error. Separa los números sólo con un espacio.')\n",
    "        continue\n",
    "    try:\n",
    "        a = float(input_list[0])\n",
    "        b = float(input_list[1])\n",
    "    except ValueError:\n",
    "        print('Error. Ingresa sólo valores numéricos.')\n",
    "        continue\n",
    "    break\n",
    "\n",
    "print('La suma es:', a+b)\n"
   ]
  },
  {
   "cell_type": "markdown",
   "id": "a9680128-2a0f-4dda-b887-5a263abbfe54",
   "metadata": {},
   "source": [
    "2. De dos valores diferentes, indicar cuál es mayor."
   ]
  },
  {
   "cell_type": "code",
   "execution_count": null,
   "id": "41ad911e-38e7-442d-9878-3aa3625d3115",
   "metadata": {},
   "outputs": [],
   "source": [
    "while True:\n",
    "    input_str = input('Introduce dos números separados por un espacio:')\n",
    "    input_list = input_str.split()\n",
    "    if len(input_list) != 2:\n",
    "        print('Error. Por favor, Separa los números con un espacio.')\n",
    "        continue\n",
    "    try:\n",
    "        a = float(input_list[0])\n",
    "        b = float(input_list[1])\n",
    "    except ValueError:\n",
    "        print('Error. Por favor, sólo introduce valores numéricos.')\n",
    "        continue\n",
    "    break\n",
    "\n",
    "if a > b:\n",
    "    print(a, 'es mayor que', b)\n",
    "elif a < b:\n",
    "    print(b, 'es mayor que', a)\n",
    "else:\n",
    "    print('Los números que introdujiste son iguales.')"
   ]
  },
  {
   "cell_type": "markdown",
   "id": "be2142a9-67f7-4653-828c-dffd9ef89285",
   "metadata": {},
   "source": [
    "  3. De valores diferentes, indicar cuál es el menor."
   ]
  },
  {
   "cell_type": "code",
   "execution_count": null,
   "id": "143f1125-80d8-483b-bfdb-d207fe9e8e81",
   "metadata": {},
   "outputs": [],
   "source": [
    "while True:\n",
    "    input_str = input('Introduce dos números separados por un espacio:')\n",
    "    input_list = input_str.split()\n",
    "    if len(input_list) != 2:\n",
    "        print('Error. Por favor, separa los números sólo con un espacio.')\n",
    "        continue\n",
    "    try:\n",
    "        c = float(input_list[0])\n",
    "        d = float(input_list[1])\n",
    "    except ValueError:\n",
    "        print('Error. Por favor, sólo introduce valores numéricos.')\n",
    "        continue\n",
    "    break\n",
    "\n",
    "if c < d:\n",
    "    print(c, 'es menor que', d)\n",
    "elif c > d:\n",
    "    print(c, 'es menor que', d)\n",
    "else:\n",
    "    print('Los números que introdujiste son iguales.')"
   ]
  },
  {
   "cell_type": "code",
   "execution_count": null,
   "id": "0986277a-16b0-4815-bffa-db80efccc2dd",
   "metadata": {},
   "outputs": [],
   "source": []
  }
 ],
 "metadata": {
  "kernelspec": {
   "display_name": "Python 3 (ipykernel)",
   "language": "python",
   "name": "python3"
  },
  "language_info": {
   "codemirror_mode": {
    "name": "ipython",
    "version": 3
   },
   "file_extension": ".py",
   "mimetype": "text/x-python",
   "name": "python",
   "nbconvert_exporter": "python",
   "pygments_lexer": "ipython3",
   "version": "3.11.2"
  }
 },
 "nbformat": 4,
 "nbformat_minor": 5
}
