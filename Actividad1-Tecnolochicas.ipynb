{
 "cells": [
  {
   "cell_type": "markdown",
   "id": "24c431ae-2781-480c-822c-0c104626f3c8",
   "metadata": {},
   "source": [
    "# Actividad 1 - Curso tecnolochicas\n",
    "### Autora: Andrea Morales Rodríguez"
   ]
  },
  {
   "cell_type": "markdown",
   "id": "61584527-80cc-44af-8e61-992d30998fb6",
   "metadata": {},
   "source": [
    "1. Suma de dos números."
   ]
  },
  {
   "cell_type": "code",
   "execution_count": 13,
   "id": "3a5d5485-cb5e-4771-aaaa-b48bb9c9c888",
   "metadata": {
    "tags": []
   },
   "outputs": [
    {
     "name": "stdin",
     "output_type": "stream",
     "text": [
      "Ingresa dos valores separados por un espacio. 1,4\n"
     ]
    },
    {
     "name": "stdout",
     "output_type": "stream",
     "text": [
      "Error. Separa los números sólo con un espacio.\n"
     ]
    },
    {
     "name": "stdin",
     "output_type": "stream",
     "text": [
      "Ingresa dos valores separados por un espacio. 1 4\n"
     ]
    },
    {
     "name": "stdout",
     "output_type": "stream",
     "text": [
      "La suma es: 5.0\n"
     ]
    }
   ],
   "source": [
    "while True:\n",
    "    input_str = input('Ingresa dos valores separados por un espacio.')\n",
    "    input_list = input_str.split()\n",
    "    if len(input_list) != 2:\n",
    "        print('Error. Separa los números sólo con un espacio.')\n",
    "        continue\n",
    "    try:\n",
    "        a = float(input_list[0])\n",
    "        b = float(input_list[1])\n",
    "    except ValueError:\n",
    "        print('Error. Ingresa sólo valores numéricos.')\n",
    "        continue\n",
    "    break\n",
    "\n",
    "print('La suma es:', a+b)\n"
   ]
  },
  {
   "cell_type": "markdown",
   "id": "5a25061d-3b7c-4e7c-a054-b908e176802e",
   "metadata": {},
   "source": [
    "2. De dos valores diferentes, indicar cuál es mayor."
   ]
  },
  {
   "cell_type": "code",
   "execution_count": 7,
   "id": "061d8e7e-48aa-4bc4-8d2a-02d952292060",
   "metadata": {
    "tags": []
   },
   "outputs": [
    {
     "name": "stdin",
     "output_type": "stream",
     "text": [
      "Introduce dos números separados por un espacio: 1\n"
     ]
    },
    {
     "name": "stdout",
     "output_type": "stream",
     "text": [
      "Error. Por favor, Separa los números con un espacio.\n"
     ]
    },
    {
     "name": "stdin",
     "output_type": "stream",
     "text": [
      "Introduce dos números separados por un espacio: 1 3\n"
     ]
    },
    {
     "name": "stdout",
     "output_type": "stream",
     "text": [
      "3.0 es mayor que 1.0\n"
     ]
    }
   ],
   "source": [
    "while True:\n",
    "    input_str = input('Introduce dos números separados por un espacio:')\n",
    "    input_list = input_str.split()\n",
    "    if len(input_list) != 2:\n",
    "        print('Error. Por favor, Separa los números con un espacio.')\n",
    "        continue\n",
    "    try:\n",
    "        a = float(input_list[0])\n",
    "        b = float(input_list[1])\n",
    "    except ValueError:\n",
    "        print('Error. Por favor, sólo introduce valores numéricos.')\n",
    "        continue\n",
    "    break\n",
    "\n",
    "if a > b:\n",
    "    print(a, 'es mayor que', b)\n",
    "elif a < b:\n",
    "    print(b, 'es mayor que', a)\n",
    "else:\n",
    "    print('Los números que introdujiste son iguales.')\n"
   ]
  },
  {
   "cell_type": "markdown",
   "id": "290aff4b-5784-4bcf-82d7-e11b840aa7c1",
   "metadata": {},
   "source": [
    "3. De valores diferentes, indicar cuál es el menor."
   ]
  },
  {
   "cell_type": "code",
   "execution_count": 10,
   "id": "9a6710fa-2ef1-4c4c-84f0-a562c6f69440",
   "metadata": {
    "tags": []
   },
   "outputs": [
    {
     "name": "stdin",
     "output_type": "stream",
     "text": [
      "Introduce dos números separados por un espacio: 1 3\n"
     ]
    },
    {
     "name": "stdout",
     "output_type": "stream",
     "text": [
      "1.0 es menor que 3.0\n"
     ]
    }
   ],
   "source": [
    "while True:\n",
    "    input_str = input('Introduce dos números separados por un espacio:')\n",
    "    input_list = input_str.split()\n",
    "    if len(input_list) != 2:\n",
    "        print('Error. Por favor, separa los números sólo con un espacio.')\n",
    "        continue\n",
    "    try:\n",
    "        c = float(input_list[0])\n",
    "        d = float(input_list[1])\n",
    "    except ValueError:\n",
    "        print('Error. Por favor, sólo introduce valores numéricos.')\n",
    "        continue\n",
    "    break\n",
    "\n",
    "if c < d:\n",
    "    print(c, 'es menor que', d)\n",
    "elif c > d:\n",
    "    print(c, 'es menor que', d)\n",
    "else:\n",
    "    print('Los números que introdujiste son iguales.')"
   ]
  },
  {
   "cell_type": "code",
   "execution_count": null,
   "id": "bccc27b8-b744-4e72-adf7-e71b79b349c1",
   "metadata": {},
   "outputs": [],
   "source": []
  }
 ],
 "metadata": {
  "kernelspec": {
   "display_name": "Python 3 (ipykernel)",
   "language": "python",
   "name": "python3"
  },
  "language_info": {
   "codemirror_mode": {
    "name": "ipython",
    "version": 3
   },
   "file_extension": ".py",
   "mimetype": "text/x-python",
   "name": "python",
   "nbconvert_exporter": "python",
   "pygments_lexer": "ipython3",
   "version": "3.11.2"
  }
 },
 "nbformat": 4,
 "nbformat_minor": 5
}
