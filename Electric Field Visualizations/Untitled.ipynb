{
 "cells": [
  {
   "cell_type": "code",
   "execution_count": 1,
   "id": "a9560b27-30be-44b3-8e3b-36a66dd563ff",
   "metadata": {
    "tags": []
   },
   "outputs": [
    {
     "data": {
      "text/html": [
       "<div id=\"glowscript\" class=\"glowscript\"></div>"
      ],
      "text/plain": [
       "<IPython.core.display.HTML object>"
      ]
     },
     "metadata": {},
     "output_type": "display_data"
    },
    {
     "data": {
      "application/javascript": [
       "if (typeof Jupyter !== \"undefined\") { window.__context = { glowscript_container: $(\"#glowscript\").removeAttr(\"id\")};}else{ element.textContent = ' ';}"
      ],
      "text/plain": [
       "<IPython.core.display.Javascript object>"
      ]
     },
     "metadata": {},
     "output_type": "display_data"
    }
   ],
   "source": [
    "from vpython import *"
   ]
  },
  {
   "cell_type": "code",
   "execution_count": null,
   "id": "d19813a2-f694-433c-ae41-bfabf9264ad0",
   "metadata": {},
   "outputs": [],
   "source": [
    "scale = 4e-14/1e17\n",
    "ec = 1.6e-19  # electron charge\n",
    "kel = 9e9     # Coulomb constant\n",
    "scene.range = 2e-13\n",
    "\n",
    "charges = [ sphere( pos=vector(-1e-13,0,0), Q=ec,  color=color.red,  size=1.2e-14*vector(1,1,1) ),\n",
    "            sphere( pos=vector( 1e-13,0,0), Q=-ec, color=color.blue, size=1.2e-14*vector(1,1,1) )]"
   ]
  },
  {
   "cell_type": "code",
   "execution_count": null,
   "id": "1f3d6adc-e371-4376-8283-227e06bc1e2f",
   "metadata": {},
   "outputs": [],
   "source": [
    "def getfield(p):\n",
    "    f = vec(0,0,0)\n",
    "    for c in charges:\n",
    "        f = f + (p-c.pos) * kel * c.Q / mag(p-c.pos)**3\n",
    "    return f\n"
   ]
  },
  {
   "cell_type": "code",
   "execution_count": null,
   "id": "8ca28b04-d0a2-4df1-903f-ef050cca51db",
   "metadata": {},
   "outputs": [],
   "source": [
    "def mouse_to_field(a):\n",
    "    p = scene.mouse.pos\n",
    "    f = getfield(p)\n",
    "    m = mag(f)\n",
    "    red = max( 1-1e17/m, 0 )\n",
    "    blue = min(  1e17/m, 1 )\n",
    "    if red >= blue:\n",
    "        blue = blue/red\n",
    "        red = 1.0\n",
    "    else:\n",
    "        red = red/blue\n",
    "        blue = 1.0\n",
    "    a.pos = p\n",
    "    a.axis = scale*f\n",
    "    a.color = vector(red,0,blue)\n",
    "\n",
    "drag = False\n",
    "a = None"
   ]
  },
  {
   "cell_type": "code",
   "execution_count": null,
   "id": "af055fbf-03b1-45a1-8c9c-8e9d5654eb6d",
   "metadata": {},
   "outputs": [],
   "source": [
    "def down(ev):\n",
    "    global a, drag\n",
    "    a = arrow(shaftwidth=6e-15)\n",
    "    mouse_to_field(a)\n",
    "    drag = True"
   ]
  },
  {
   "cell_type": "code",
   "execution_count": null,
   "id": "28cc30cb-cbff-4999-88ae-631242b5cbe4",
   "metadata": {},
   "outputs": [],
   "source": [
    "def move(ev):\n",
    "    global a, drag\n",
    "    if not drag: return\n",
    "    mouse_to_field(a)"
   ]
  },
  {
   "cell_type": "code",
   "execution_count": null,
   "id": "9cde41f8-f924-4bea-b2e4-b5e91fe72c61",
   "metadata": {},
   "outputs": [],
   "source": [
    "def up(ev):\n",
    "    global a, drag\n",
    "    mouse_to_field(a)\n",
    "    drag = False"
   ]
  },
  {
   "cell_type": "code",
   "execution_count": null,
   "id": "08d3ccef-5ead-40b6-98de-309d59135cfb",
   "metadata": {
    "tags": []
   },
   "outputs": [],
   "source": [
    "scene.bind(\"mousedown\", down)\n",
    "\n",
    "scene.bind(\"mousemove\", move)\n",
    "\n",
    "scene.bind(\"mouseup\", up)"
   ]
  }
 ],
 "metadata": {
  "kernelspec": {
   "display_name": "VPython",
   "language": "python",
   "name": "vpython"
  },
  "language_info": {
   "codemirror_mode": {
    "name": "ipython",
    "version": 3
   },
   "file_extension": ".py",
   "mimetype": "text/x-python",
   "name": "python",
   "nbconvert_exporter": "python",
   "pygments_lexer": "ipython3",
   "version": "3.11.2"
  }
 },
 "nbformat": 4,
 "nbformat_minor": 5
}
