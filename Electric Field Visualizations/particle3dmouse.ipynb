{
 "cells": [
  {
   "cell_type": "markdown",
   "id": "189e7e20-4afb-41ac-8d68-b208448eb513",
   "metadata": {},
   "source": [
    "# Visualizando interactivamente el campo debido a una particula cargada.\n",
    "## Visualizing interactively the field due to a charged particle.\n",
    "\n",
    "### Author(s):\n",
    "* Héctor Mejía\n",
    "* Andrea MR\n",
    "\n",
    "#### Instrucciones: Corre todas las celdas. Aparecerá la carga en el origen del plano, arrastrando tu mouse podrás visualizar el campo alrededor de ésta partícula."
   ]
  },
  {
   "cell_type": "code",
   "execution_count": 1,
   "id": "e1e21b94-edc2-4f4e-80d8-3c4f03fa709f",
   "metadata": {
    "tags": []
   },
   "outputs": [
    {
     "data": {
      "text/html": [
       "<div id=\"glowscript\" class=\"glowscript\"></div>"
      ],
      "text/plain": [
       "<IPython.core.display.HTML object>"
      ]
     },
     "metadata": {},
     "output_type": "display_data"
    },
    {
     "data": {
      "application/javascript": [
       "if (typeof Jupyter !== \"undefined\") { window.__context = { glowscript_container: $(\"#glowscript\").removeAttr(\"id\")};}else{ element.textContent = ' ';}"
      ],
      "text/plain": [
       "<IPython.core.display.Javascript object>"
      ]
     },
     "metadata": {},
     "output_type": "display_data"
    }
   ],
   "source": [
    "from vpython import *"
   ]
  },
  {
   "cell_type": "code",
   "execution_count": 2,
   "id": "4dec9a46-d045-4275-b2f7-2af902775f20",
   "metadata": {
    "tags": []
   },
   "outputs": [
    {
     "data": {
      "application/javascript": [
       "if (typeof Jupyter !== \"undefined\") {require.undef(\"nbextensions/vpython_libraries/glow.min\");}else{element.textContent = ' ';}"
      ],
      "text/plain": [
       "<IPython.core.display.Javascript object>"
      ]
     },
     "metadata": {},
     "output_type": "display_data"
    },
    {
     "data": {
      "application/javascript": [
       "if (typeof Jupyter !== \"undefined\") {require.undef(\"nbextensions/vpython_libraries/glowcomm\");}else{element.textContent = ' ';}"
      ],
      "text/plain": [
       "<IPython.core.display.Javascript object>"
      ]
     },
     "metadata": {},
     "output_type": "display_data"
    },
    {
     "data": {
      "application/javascript": [
       "if (typeof Jupyter !== \"undefined\") {require.undef(\"nbextensions/vpython_libraries/jquery-ui.custom.min\");}else{element.textContent = ' ';}"
      ],
      "text/plain": [
       "<IPython.core.display.Javascript object>"
      ]
     },
     "metadata": {},
     "output_type": "display_data"
    },
    {
     "data": {
      "application/javascript": [
       "if (typeof Jupyter !== \"undefined\") {require([\"nbextensions/vpython_libraries/glow.min\"], function(){console.log(\"GLOW LOADED\");});}else{element.textContent = ' ';}"
      ],
      "text/plain": [
       "<IPython.core.display.Javascript object>"
      ]
     },
     "metadata": {},
     "output_type": "display_data"
    },
    {
     "data": {
      "application/javascript": [
       "if (typeof Jupyter !== \"undefined\") {require([\"nbextensions/vpython_libraries/glowcomm\"], function(){console.log(\"GLOWCOMM LOADED\");});}else{element.textContent = ' ';}"
      ],
      "text/plain": [
       "<IPython.core.display.Javascript object>"
      ]
     },
     "metadata": {},
     "output_type": "display_data"
    },
    {
     "data": {
      "application/javascript": [
       "if (typeof Jupyter !== \"undefined\") {require([\"nbextensions/vpython_libraries/jquery-ui.custom.min\"], function(){console.log(\"JQUERY LOADED\");});}else{element.textContent = ' ';}"
      ],
      "text/plain": [
       "<IPython.core.display.Javascript object>"
      ]
     },
     "metadata": {},
     "output_type": "display_data"
    }
   ],
   "source": [
    "#Definimos la carga, la escala y el rango de la escena\n",
    "vc = 1.6e-19\n",
    "escala = 4e-14/1e17\n",
    "scene.range = 2e-13\n",
    "\n",
    "carga = sphere( pos=vector(0,0,0),  color=color.red,  size=1.2e-14*vector(1,1,1))"
   ]
  },
  {
   "cell_type": "code",
   "execution_count": 3,
   "id": "7d75c7e2-da3f-4f4e-8d92-261e8f66a56b",
   "metadata": {
    "tags": []
   },
   "outputs": [],
   "source": [
    "#Definimos la funcion para calcular el campo\n",
    "def campo(p):\n",
    "    E = vector(0,0,0)\n",
    "    for c in carga:\n",
    "        E = E + (p-c.pos)*k * vc / mag(p-c.pos)**2\n",
    "    return E"
   ]
  },
  {
   "cell_type": "code",
   "execution_count": 4,
   "id": "5cff312f-735b-4ae0-801a-977d06fb9e6d",
   "metadata": {
    "tags": []
   },
   "outputs": [],
   "source": [
    "#Definimos la funcion para interactuar con el mouse.\n",
    "def verCampo(a):\n",
    "    p = scene.mouse.pos\n",
    "    E = campo(p)\n",
    "    m = mag(E)\n",
    "    red = max( 1-1e17/m, 0 )\n",
    "    blue = min(  1e17/m, 1 )\n",
    "    if red >= blue:\n",
    "        blue = blue/red\n",
    "        red = 1.0\n",
    "    else:\n",
    "        red = red/blue\n",
    "        blue = 1.0\n",
    "    a.pos = p\n",
    "    a.axis = escala*E\n",
    "    a.color = vector(red,0,blue)\n",
    "\n",
    "drag = False\n",
    "a = None\n"
   ]
  },
  {
   "cell_type": "code",
   "execution_count": 5,
   "id": "b17016be-2ef4-4c45-931f-958ab1a3ce85",
   "metadata": {},
   "outputs": [],
   "source": [
    "#Configuramos el movimiento del mouse\n",
    "def abajo(ev):\n",
    "    global a, drag\n",
    "    a = arrow(shaftwidth=6e-15)\n",
    "    verCampo(a)\n",
    "    drag = True\n",
    "    \n",
    "def mover(ev):\n",
    "    global a, drag\n",
    "    if not drag: return\n",
    "    verCampo(a)\n",
    "\n",
    "def arriba(ev):\n",
    "    global a, drag\n",
    "    verCampo(a)\n",
    "    drag = False"
   ]
  },
  {
   "cell_type": "code",
   "execution_count": 6,
   "id": "79001e43-0aed-4523-adaa-592cd6cf421a",
   "metadata": {
    "tags": []
   },
   "outputs": [],
   "source": [
    "scene.bind(\"mousedown\", abajo)\n",
    "\n",
    "scene.bind(\"mousemove\", mover)\n",
    "\n",
    "scene.bind(\"mouseup\", arriba)"
   ]
  }
 ],
 "metadata": {
  "kernelspec": {
   "display_name": "VPython",
   "language": "python",
   "name": "vpython"
  },
  "language_info": {
   "codemirror_mode": {
    "name": "ipython",
    "version": 3
   },
   "file_extension": ".py",
   "mimetype": "text/x-python",
   "name": "python",
   "nbconvert_exporter": "python",
   "pygments_lexer": "ipython3",
   "version": "3.11.2"
  }
 },
 "nbformat": 4,
 "nbformat_minor": 5
}
