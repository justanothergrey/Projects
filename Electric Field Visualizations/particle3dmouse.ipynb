{
 "cells": [
  {
   "cell_type": "markdown",
   "id": "189e7e20-4afb-41ac-8d68-b208448eb513",
   "metadata": {},
   "source": [
    "# Visualizando interactivamente el campo debido a una particula cargada.\n",
    "## Visualizing interactively the field due to a charged particle.\n",
    "\n",
    "### Author(s):\n",
    "* Héctor Mejía\n",
    "* Andrea MR\n",
    "\n",
    "#### Instrucciones: Corre todas las celdas. Aparecerá la carga en el origen del plano, arrastrando tu mouse podrás visualizar el campo alrededor de ésta partícula."
   ]
  },
  {
   "cell_type": "code",
   "execution_count": 1,
   "id": "e1e21b94-edc2-4f4e-80d8-3c4f03fa709f",
   "metadata": {
    "tags": []
   },
   "outputs": [
    {
     "data": {
      "text/html": [
       "<div id=\"glowscript\" class=\"glowscript\"></div>"
      ],
      "text/plain": [
       "<IPython.core.display.HTML object>"
      ]
     },
     "metadata": {},
     "output_type": "display_data"
    },
    {
     "data": {
      "application/javascript": [
       "if (typeof Jupyter !== \"undefined\") { window.__context = { glowscript_container: $(\"#glowscript\").removeAttr(\"id\")};}else{ element.textContent = ' ';}"
      ],
      "text/plain": [
       "<IPython.core.display.Javascript object>"
      ]
     },
     "metadata": {},
     "output_type": "display_data"
    }
   ],
   "source": [
    "from vpython import *"
   ]
  },
  {
   "cell_type": "code",
   "execution_count": 3,
   "id": "4dec9a46-d045-4275-b2f7-2af902775f20",
   "metadata": {
    "tags": []
   },
   "outputs": [
    {
     "data": {
      "application/javascript": [
       "if (typeof Jupyter !== \"undefined\") {require.undef(\"nbextensions/vpython_libraries/glow.min\");}else{element.textContent = ' ';}"
      ],
      "text/plain": [
       "<IPython.core.display.Javascript object>"
      ]
     },
     "metadata": {},
     "output_type": "display_data"
    },
    {
     "data": {
      "application/javascript": [
       "if (typeof Jupyter !== \"undefined\") {require.undef(\"nbextensions/vpython_libraries/glowcomm\");}else{element.textContent = ' ';}"
      ],
      "text/plain": [
       "<IPython.core.display.Javascript object>"
      ]
     },
     "metadata": {},
     "output_type": "display_data"
    },
    {
     "data": {
      "application/javascript": [
       "if (typeof Jupyter !== \"undefined\") {require.undef(\"nbextensions/vpython_libraries/jquery-ui.custom.min\");}else{element.textContent = ' ';}"
      ],
      "text/plain": [
       "<IPython.core.display.Javascript object>"
      ]
     },
     "metadata": {},
     "output_type": "display_data"
    },
    {
     "data": {
      "application/javascript": [
       "if (typeof Jupyter !== \"undefined\") {require([\"nbextensions/vpython_libraries/glow.min\"], function(){console.log(\"GLOW LOADED\");});}else{element.textContent = ' ';}"
      ],
      "text/plain": [
       "<IPython.core.display.Javascript object>"
      ]
     },
     "metadata": {},
     "output_type": "display_data"
    },
    {
     "data": {
      "application/javascript": [
       "if (typeof Jupyter !== \"undefined\") {require([\"nbextensions/vpython_libraries/glowcomm\"], function(){console.log(\"GLOWCOMM LOADED\");});}else{element.textContent = ' ';}"
      ],
      "text/plain": [
       "<IPython.core.display.Javascript object>"
      ]
     },
     "metadata": {},
     "output_type": "display_data"
    },
    {
     "data": {
      "application/javascript": [
       "if (typeof Jupyter !== \"undefined\") {require([\"nbextensions/vpython_libraries/jquery-ui.custom.min\"], function(){console.log(\"JQUERY LOADED\");});}else{element.textContent = ' ';}"
      ],
      "text/plain": [
       "<IPython.core.display.Javascript object>"
      ]
     },
     "metadata": {},
     "output_type": "display_data"
    }
   ],
   "source": [
    "#Definimos la carga, la escala y el rango de la escena. Definimos constantes\n",
    "qq1=sphere(pos=rq1, radius=0.01, color=color.red)\n",
    "placeholder=sphere(pos=vector(0.09,0,0),radius=0.0001)\n",
    "Escala=0.02/1e4"
   ]
  },
  {
   "cell_type": "code",
   "execution_count": 2,
   "id": "7d75c7e2-da3f-4f4e-8d92-261e8f66a56b",
   "metadata": {
    "tags": []
   },
   "outputs": [],
   "source": [
    "#Definimos la carga puntual\n",
    "def E(rq,ro,q):\n",
    "  r=ro-rq\n",
    "  k=9e9\n",
    "  return(k*q*norm(r)/mag(r)**2)\n",
    "k=9e9  \n",
    "ro1=vector(0.05,0,0)\n",
    "rq1=vector(0,0,0)\n",
    "q1=3e-9"
   ]
  },
  {
   "cell_type": "code",
   "execution_count": 4,
   "id": "5cff312f-735b-4ae0-801a-977d06fb9e6d",
   "metadata": {
    "tags": []
   },
   "outputs": [],
   "source": [
    "#Definimos la funcion que al hacer click, nos arrojará como se ve el campo en ese punto.\n",
    "def verCampo(evt):\n",
    "    loc = evt.pos\n",
    "    rt=loc-rq1\n",
    "    Et=k*q1*norm(rt)/mag(rt)**2\n",
    "    arrow(pos=loc, axis=Escala*Et, color=color.white)\n",
    "\n",
    "scene.bind('click', verCampo)"
   ]
  },
  {
   "cell_type": "code",
   "execution_count": null,
   "id": "b17016be-2ef4-4c45-931f-958ab1a3ce85",
   "metadata": {},
   "outputs": [],
   "source": []
  }
 ],
 "metadata": {
  "kernelspec": {
   "display_name": "VPython",
   "language": "python",
   "name": "vpython"
  },
  "language_info": {
   "codemirror_mode": {
    "name": "ipython",
    "version": 3
   },
   "file_extension": ".py",
   "mimetype": "text/x-python",
   "name": "python",
   "nbconvert_exporter": "python",
   "pygments_lexer": "ipython3",
   "version": "3.11.2"
  }
 },
 "nbformat": 4,
 "nbformat_minor": 5
}
